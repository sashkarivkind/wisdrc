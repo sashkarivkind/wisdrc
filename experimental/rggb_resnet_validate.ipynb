{
 "cells": [
  {
   "cell_type": "code",
   "execution_count": 1,
   "id": "0b1dedbd",
   "metadata": {},
   "outputs": [
    {
     "data": {
      "text/plain": [
       "'Here we reorganize a resnet variant that was trained on RGGB  images'"
      ]
     },
     "execution_count": 1,
     "metadata": {},
     "output_type": "execute_result"
    }
   ],
   "source": [
    "'''Here we reorganize a resnet variant that was trained on RGGB  images'''"
   ]
  },
  {
   "cell_type": "code",
   "execution_count": 2,
   "id": "746219cf",
   "metadata": {},
   "outputs": [
    {
     "name": "stderr",
     "output_type": "stream",
     "text": [
      "/usr/local/lib/python3.8/dist-packages/tensorflow_addons/utils/ensure_tf_install.py:53: UserWarning: Tensorflow Addons supports using Python ops for all Tensorflow versions above or equal to 2.3.0 and strictly below 2.6.0 (nightly versions are not supported). \n",
      " The versions of TensorFlow you are currently using is 2.6.0 and is not supported. \n",
      "Some things might work, some things might not.\n",
      "If you were to encounter a bug, do not file an issue.\n",
      "If you want to make sure you're using a tested and supported configuration, either change the TensorFlow version or the TensorFlow Addons's version. \n",
      "You can find the compatibility matrix in TensorFlow Addon's readme:\n",
      "https://github.com/tensorflow/addons\n",
      "  warnings.warn(\n"
     ]
    }
   ],
   "source": [
    "import os\n",
    "import sys\n",
    "import numpy as np\n",
    "sys.path.insert(0, \"/home/bnapp/arivkindNet/wisdrc/\")\n",
    "from parse_commandline import parse_commandline\n",
    "from utils.imagenet_dataset import get_dataset\n",
    "from utils.unprocess import *\n",
    "from utils.image_utils import *\n",
    "from utils.image_processing import rescale\n",
    "from utils.split_keras_model import split_model\n",
    "from models.student_models import full_size_rggb_fe\n",
    "import tensorflow as tf\n",
    "import matplotlib.pyplot as plt"
   ]
  },
  {
   "cell_type": "code",
   "execution_count": 3,
   "id": "c98e9083",
   "metadata": {},
   "outputs": [],
   "source": [
    "import pickle as pkl"
   ]
  },
  {
   "cell_type": "code",
   "execution_count": 4,
   "id": "241e2051",
   "metadata": {},
   "outputs": [],
   "source": [
    "parser = parse_commandline(return_parser=True)\n",
    "config = parser.parse_args([])\n",
    "config = vars(config)\n",
    "parameters = config"
   ]
  },
  {
   "cell_type": "code",
   "execution_count": 5,
   "id": "6341ce91",
   "metadata": {},
   "outputs": [
    {
     "name": "stderr",
     "output_type": "stream",
     "text": [
      "2023-01-03 22:49:08.785860: I tensorflow/core/common_runtime/gpu/gpu_device.cc:1917] Ignoring visible gpu device (device: 1, name: NVIDIA GeForce GT 730, pci bus id: 0000:65:00.0, compute capability: 3.5) with core count: 2. The minimum required count is 8. You can adjust this requirement with the env var TF_MIN_GPU_MULTIPROCESSOR_COUNT.\n",
      "2023-01-03 22:49:09.213998: I tensorflow/core/common_runtime/gpu/gpu_device.cc:1510] Created device /job:localhost/replica:0/task:0/device:GPU:0 with 10247 MB memory:  -> device: 0, name: NVIDIA GeForce GTX 1080 Ti, pci bus id: 0000:17:00.0, compute capability: 6.1\n"
     ]
    },
    {
     "name": "stdout",
     "output_type": "stream",
     "text": [
      "WARNING:tensorflow:No training configuration found in save file, so the model was *not* compiled. Compile it manually.\n"
     ]
    }
   ],
   "source": [
    "rggb_resnet = tf.keras.models.load_model('rggb_resnet50_rev01')"
   ]
  },
  {
   "cell_type": "code",
   "execution_count": 14,
   "id": "a814001f",
   "metadata": {},
   "outputs": [],
   "source": [
    "batch_size=32\n",
    "val_generator_baseline = get_dataset(parameters['dataset_dir'],\n",
    "                                     'validation',\n",
    "                                     batch_size,\n",
    "                                     preprocessing=parameters['preprocessing'],\n",
    "                                    rggb_mode=True,\n",
    "                                    enable_random_gains=True)\n"
   ]
  },
  {
   "cell_type": "code",
   "execution_count": 15,
   "id": "9c3a76f8",
   "metadata": {},
   "outputs": [],
   "source": [
    "rggb_resnet.compile(\n",
    "        optimizer='SGD',\n",
    "        loss=\"categorical_crossentropy\",\n",
    "        metrics=[\"categorical_accuracy\", \"top_k_categorical_accuracy\"])"
   ]
  },
  {
   "cell_type": "code",
   "execution_count": 17,
   "id": "6e13a354",
   "metadata": {},
   "outputs": [
    {
     "name": "stdout",
     "output_type": "stream",
     "text": [
      "1000/1000 [==============================] - 170s 169ms/step - loss: 1.1768 - categorical_accuracy: 0.7128 - top_k_categorical_accuracy: 0.9038\n"
     ]
    },
    {
     "data": {
      "text/plain": [
       "[1.1767704486846924, 0.7128124833106995, 0.9038125276565552]"
      ]
     },
     "execution_count": 17,
     "metadata": {},
     "output_type": "execute_result"
    }
   ],
   "source": [
    "rggb_resnet.evaluate(val_generator_baseline,steps=1000)"
   ]
  },
  {
   "cell_type": "code",
   "execution_count": null,
   "id": "5cdd4eee",
   "metadata": {},
   "outputs": [],
   "source": []
  }
 ],
 "metadata": {
  "kernelspec": {
   "display_name": "Python 3 (ipykernel)",
   "language": "python",
   "name": "python3"
  },
  "language_info": {
   "codemirror_mode": {
    "name": "ipython",
    "version": 3
   },
   "file_extension": ".py",
   "mimetype": "text/x-python",
   "name": "python",
   "nbconvert_exporter": "python",
   "pygments_lexer": "ipython3",
   "version": "3.8.10"
  }
 },
 "nbformat": 4,
 "nbformat_minor": 5
}
